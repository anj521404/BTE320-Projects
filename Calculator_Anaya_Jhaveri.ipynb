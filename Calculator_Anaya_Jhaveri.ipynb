{
  "nbformat": 4,
  "nbformat_minor": 0,
  "metadata": {
    "colab": {
      "provenance": [],
      "authorship_tag": "ABX9TyPymNzSjwc5qG9tCu/A8a5H",
      "include_colab_link": true
    },
    "kernelspec": {
      "name": "python3",
      "display_name": "Python 3"
    },
    "language_info": {
      "name": "python"
    }
  },
  "cells": [
    {
      "cell_type": "markdown",
      "metadata": {
        "id": "view-in-github",
        "colab_type": "text"
      },
      "source": [
        "<a href=\"https://colab.research.google.com/github/anj521404/BTE320-Projects/blob/main/Calculator_Anaya_Jhaveri.ipynb\" target=\"_parent\"><img src=\"https://colab.research.google.com/assets/colab-badge.svg\" alt=\"Open In Colab\"/></a>"
      ]
    },
    {
      "cell_type": "code",
      "execution_count": 36,
      "metadata": {
        "colab": {
          "base_uri": "https://localhost:8080/"
        },
        "id": "3XXwfBgl4_lz",
        "outputId": "7bf5a69a-926f-4ba8-91b4-930725686a50"
      },
      "outputs": [
        {
          "output_type": "stream",
          "name": "stdout",
          "text": [
            "Enter an operator\n",
            "break\n",
            "Goodbye!\n"
          ]
        }
      ],
      "source": [
        "from ast import Break\n",
        "while True:\n",
        "  print(\"Enter an operator\")\n",
        "  operator = input(\"\")\n",
        "  if operator == \"break\":\n",
        "    print('Goodbye!')\n",
        "    break\n",
        "  print(\"Enter 2 numbers\")\n",
        "  Number1 = float(input('Enter first number:'))\n",
        "  Number2 = float(input(\"Enter second number:\"))\n",
        "  if operator == \"+\":\n",
        "    print(Number1 + Number2)\n",
        "  elif operator == \"*\":\n",
        "    print(Number1 * Number2)\n",
        "  elif operator == \"-\":\n",
        "    print(Number1 - Number2)\n",
        "  elif operator == \"**\":\n",
        "    print(Number1 ** Number2)\n",
        "  elif operator == \"/\":\n",
        "    print(Number1 / Number2)\n",
        "  elif operator == \"//\":\n",
        "    print(Number1 // Number2)\n",
        "  elif operator == \"%\":\n",
        "    print(Number1 % Number2)\n",
        "  else:\n",
        "    print(f'Invalid operator:\\'{operator}')\n",
        "    continue\n",
        "\n",
        "\n"
      ]
    }
  ]
}