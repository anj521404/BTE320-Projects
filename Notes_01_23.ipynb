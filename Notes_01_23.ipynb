{
  "nbformat": 4,
  "nbformat_minor": 0,
  "metadata": {
    "colab": {
      "provenance": [],
      "authorship_tag": "ABX9TyMUzLwCSXw3Mgy6/Qxqi9HY",
      "include_colab_link": true
    },
    "kernelspec": {
      "name": "python3",
      "display_name": "Python 3"
    },
    "language_info": {
      "name": "python"
    }
  },
  "cells": [
    {
      "cell_type": "markdown",
      "metadata": {
        "id": "view-in-github",
        "colab_type": "text"
      },
      "source": [
        "<a href=\"https://colab.research.google.com/github/anj521404/BTE320-Projects/blob/main/Notes_01_23.ipynb\" target=\"_parent\"><img src=\"https://colab.research.google.com/assets/colab-badge.svg\" alt=\"Open In Colab\"/></a>"
      ]
    },
    {
      "cell_type": "code",
      "execution_count": null,
      "metadata": {
        "colab": {
          "base_uri": "https://localhost:8080/"
        },
        "id": "CN0XJjDez6t9",
        "outputId": "5e36eafa-16da-4591-f640-0026348d61e1"
      },
      "outputs": [
        {
          "output_type": "stream",
          "name": "stdout",
          "text": [
            "78.5\n"
          ]
        }
      ],
      "source": [
        "\"print function\"\n",
        "pi = 3.14\n",
        "r=5\n",
        "area = pi*(r**2)\n",
        "print(area)"
      ]
    },
    {
      "cell_type": "code",
      "source": [
        "Area=10\n",
        "print(\"Area =\",area)\n"
      ],
      "metadata": {
        "colab": {
          "base_uri": "https://localhost:8080/"
        },
        "id": "jiNYLT3j0WXR",
        "outputId": "c28c6498-df96-4498-d227-2ca15f01ab0e"
      },
      "execution_count": null,
      "outputs": [
        {
          "output_type": "stream",
          "name": "stdout",
          "text": [
            "Area = 78.5\n"
          ]
        }
      ]
    },
    {
      "cell_type": "code",
      "source": [
        "#print two string objects. All rest of parameters keep their default values\n",
        "print('Good night',\"and good luck\")\n",
        "#Change default separator to\n",
        "print('Good night', 'and good luck', sep=\"---\")\n",
        "#Change default end character to empty Space\n",
        "print('Good morning')\n",
        "print('Good night', 'and good luck....', end=\"   \")\n",
        "print('Good Morning again')"
      ],
      "metadata": {
        "colab": {
          "base_uri": "https://localhost:8080/"
        },
        "id": "Lp3qp1Cy0663",
        "outputId": "d7502a11-e8fb-4682-8a53-2fd0e6461088"
      },
      "execution_count": null,
      "outputs": [
        {
          "output_type": "stream",
          "name": "stdout",
          "text": [
            "Good night and good luck\n",
            "Good night---and good luck\n",
            "Good morning\n",
            "Good night and good luck....   Good Morning again\n"
          ]
        }
      ]
    },
    {
      "cell_type": "code",
      "source": [
        "#String replacement operation in print function\n",
        "#the following list gives fiver different methods: commas (obj1, obj2, ...); .format();f-strings;%,raw\n",
        "#the last two are rarely used, and we will not spend time on them\n",
        "print('this is an interger %d' %15)\n",
        "print('this is a float %f ' %15.3456)\n",
        "print('this is a float %.2f ' %15.3456)\n"
      ],
      "metadata": {
        "colab": {
          "base_uri": "https://localhost:8080/"
        },
        "id": "yd2L_oSA2j_W",
        "outputId": "c35ac0e2-8158-4a00-e3c1-e807bfa9c22a"
      },
      "execution_count": null,
      "outputs": [
        {
          "output_type": "stream",
          "name": "stdout",
          "text": [
            "this is an interger 15\n",
            "this is a float 15.345600 \n",
            "this is a float 15.35 \n"
          ]
        }
      ]
    },
    {
      "cell_type": "code",
      "source": [
        "#print a given value\n",
        "pi = 3.14\n",
        "e = 2.71\n",
        "print('The value of pi is', pi, 'and the value of Euler number is', e)\n",
        "#it is better to have one string than multiple strings so we don't have to keep breaking the string and avoid errors\n",
        "#use format and f-string approach for the same\n",
        "#\"{}\"...\"{}\"... format(pi,e)\n",
        "#Fstring ==> f'....{pi},{e}"
      ],
      "metadata": {
        "colab": {
          "base_uri": "https://localhost:8080/"
        },
        "id": "TF87V_9T4KPk",
        "outputId": "eec09762-7aae-4db7-e2c1-2a5742453225"
      },
      "execution_count": null,
      "outputs": [
        {
          "output_type": "stream",
          "name": "stdout",
          "text": [
            "The value of pi is 3.14 and the value of Euler number is 2.71\n"
          ]
        }
      ]
    },
    {
      "cell_type": "code",
      "source": [
        "#Format and f-string\n",
        "x=3.14\n",
        "y=2.71\n",
        "#format\n",
        "\"Pi is {}, euler is {}\".format(pi,e)\n",
        "\n",
        "\n"
      ],
      "metadata": {
        "colab": {
          "base_uri": "https://localhost:8080/",
          "height": 35
        },
        "id": "ZJ-ui7NF5vLL",
        "outputId": "3ec4e9f3-17c6-49ed-cbeb-6f2046e2671d"
      },
      "execution_count": null,
      "outputs": [
        {
          "output_type": "execute_result",
          "data": {
            "text/plain": [
              "'Pi is 3.14, euler is 2.71'"
            ],
            "application/vnd.google.colaboratory.intrinsic+json": {
              "type": "string"
            }
          },
          "metadata": {},
          "execution_count": 25
        }
      ]
    },
    {
      "cell_type": "code",
      "source": [
        "#end\"...\" see everything in one line; sep\"---\" separate strings"
      ],
      "metadata": {
        "id": "lANQ6lZz6xUQ"
      },
      "execution_count": null,
      "outputs": []
    },
    {
      "cell_type": "code",
      "source": [
        "#f-string\n",
        "x=3.14\n",
        "y=2.71\n",
        "f'pi is {x}, euler is {y}'"
      ],
      "metadata": {
        "colab": {
          "base_uri": "https://localhost:8080/",
          "height": 35
        },
        "id": "MKedzOEN6ROE",
        "outputId": "5613cefd-b2d2-466d-9052-9478234f2be5"
      },
      "execution_count": null,
      "outputs": [
        {
          "output_type": "execute_result",
          "data": {
            "text/plain": [
              "'pi is 3.14, euler is 2.71'"
            ],
            "application/vnd.google.colaboratory.intrinsic+json": {
              "type": "string"
            }
          },
          "metadata": {},
          "execution_count": 23
        }
      ]
    },
    {
      "cell_type": "code",
      "source": [
        "t1 = (1,'two', 3)\n",
        "t2 = (t1, 3.25, 3)\n",
        "\n",
        "t1 + t2"
      ],
      "metadata": {
        "colab": {
          "base_uri": "https://localhost:8080/"
        },
        "id": "Br50a18me5hM",
        "outputId": "02994925-db5d-4a34-abf3-8b4997f1f5c5"
      },
      "execution_count": null,
      "outputs": [
        {
          "output_type": "execute_result",
          "data": {
            "text/plain": [
              "(1, 'two', 3, (1, 'two', 3), 3.25, 3)"
            ]
          },
          "metadata": {},
          "execution_count": 7
        }
      ]
    },
    {
      "cell_type": "code",
      "source": [
        "t3 = (1, 'a', 2)\n",
        "t4 = ('b', 2, 'a')\n",
        "result = ()\n",
        "for e in t3:\n",
        "  if e in t4:\n",
        "    result += (e,)\n",
        "print(result)"
      ],
      "metadata": {
        "colab": {
          "base_uri": "https://localhost:8080/"
        },
        "id": "9JdJ5ikXfZD8",
        "outputId": "3b3d4a18-68d6-41cf-cda9-17aa113d8dd4"
      },
      "execution_count": null,
      "outputs": [
        {
          "output_type": "stream",
          "name": "stdout",
          "text": [
            "('a', 2)\n"
          ]
        }
      ]
    },
    {
      "cell_type": "code",
      "source": [
        "T1 = (1,'two',3,'four',5.0,print)\n",
        "print(T1[3][2])"
      ],
      "metadata": {
        "colab": {
          "base_uri": "https://localhost:8080/"
        },
        "id": "kWrOphmn7D4z",
        "outputId": "332866af-c96d-4bd1-b106-c8d3dd9d2e69"
      },
      "execution_count": null,
      "outputs": [
        {
          "output_type": "stream",
          "name": "stdout",
          "text": [
            "u\n"
          ]
        }
      ]
    }
  ]
}