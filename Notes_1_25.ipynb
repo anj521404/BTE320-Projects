{
  "nbformat": 4,
  "nbformat_minor": 0,
  "metadata": {
    "colab": {
      "provenance": [],
      "authorship_tag": "ABX9TyO8Xu+iWfF6Zfg36yYgDsUY",
      "include_colab_link": true
    },
    "kernelspec": {
      "name": "python3",
      "display_name": "Python 3"
    },
    "language_info": {
      "name": "python"
    }
  },
  "cells": [
    {
      "cell_type": "markdown",
      "metadata": {
        "id": "view-in-github",
        "colab_type": "text"
      },
      "source": [
        "<a href=\"https://colab.research.google.com/github/anj521404/BTE320-Projects/blob/main/Notes_1_25.ipynb\" target=\"_parent\"><img src=\"https://colab.research.google.com/assets/colab-badge.svg\" alt=\"Open In Colab\"/></a>"
      ]
    },
    {
      "cell_type": "code",
      "execution_count": null,
      "metadata": {
        "colab": {
          "base_uri": "https://localhost:8080/"
        },
        "id": "CsLjO2UXBTys",
        "outputId": "9f42a8e5-12e2-4b5b-cc4f-555dc10e5f9e"
      },
      "outputs": [
        {
          "output_type": "stream",
          "name": "stdout",
          "text": [
            "Enter your nameAnaya\n",
            "Hi Anaya\n"
          ]
        },
        {
          "output_type": "execute_result",
          "data": {
            "text/plain": [
              "str"
            ]
          },
          "metadata": {},
          "execution_count": 2
        }
      ],
      "source": [
        "name = input('Enter your name')\n",
        "print('Hi', name)\n",
        "type(name)"
      ]
    },
    {
      "cell_type": "code",
      "source": [
        "n = int(input('Enter an integer value:'))\n",
        "print(type(n),n)\n"
      ],
      "metadata": {
        "colab": {
          "base_uri": "https://localhost:8080/"
        },
        "id": "oS1RFcENBlnT",
        "outputId": "785b4f3b-2484-43d4-bee0-85f38b6564b1"
      },
      "execution_count": null,
      "outputs": [
        {
          "output_type": "stream",
          "name": "stdout",
          "text": [
            "Enter an integer value:14\n",
            "<class 'int'> 14\n"
          ]
        }
      ]
    },
    {
      "cell_type": "code",
      "source": [
        "#there are two types of branching statements\n",
        "#conditionals are code structures that are designed to evaluate one, or more conditions\n",
        "#the conditions are given in a boolean format\n",
        "\n",
        "userInput = float(input('Enter a number'))\n",
        "if userInput > 0:\n",
        "  print(f'{userInput} is positive')\n",
        "\n",
        "  #key word \"else\" also creates a block of code; if nothing else works -- give this statement\n",
        "\n",
        "\n"
      ],
      "metadata": {
        "colab": {
          "base_uri": "https://localhost:8080/"
        },
        "id": "RnZvPybFGN2a",
        "outputId": "68998fda-a5c3-498f-907d-c083de8c91f8"
      },
      "execution_count": null,
      "outputs": [
        {
          "name": "stdout",
          "output_type": "stream",
          "text": [
            "Enter a number0\n"
          ]
        }
      ]
    },
    {
      "cell_type": "code",
      "source": [
        "userInput = float(input('Enter a number'))\n",
        "if userInput > 0:\n",
        "  print(f'{userInput} is positive')\n",
        "else:\n",
        " print(f'{userInput} is negative of zero')"
      ],
      "metadata": {
        "colab": {
          "base_uri": "https://localhost:8080/"
        },
        "id": "jKQ3pK5oIMCw",
        "outputId": "733ebd59-3323-48da-dec4-0da8886fb706"
      },
      "execution_count": null,
      "outputs": [
        {
          "output_type": "stream",
          "name": "stdout",
          "text": [
            "Enter a number-9\n",
            "-9.0 is negative of zero\n"
          ]
        }
      ]
    },
    {
      "cell_type": "code",
      "source": [
        "#initial statement(s); if condition: ___ statement; elif condition 2; statement 2; else statement 3\n",
        "#For example:\n",
        "\n",
        "userInput = float(input('Enter a number'))\n",
        "if userInput>=97:\n",
        " print('A+')\n",
        "elif userInput>=93:\n",
        "  print('A')\n",
        "elif userInput>=90:\n",
        "  print('A-')\n",
        "else:\n",
        "  print(f'{userInput} student failed')"
      ],
      "metadata": {
        "colab": {
          "base_uri": "https://localhost:8080/"
        },
        "id": "cRTqk66FJTlM",
        "outputId": "8293d755-76f7-40ef-ee33-9e22e4ff6d20"
      },
      "execution_count": null,
      "outputs": [
        {
          "output_type": "stream",
          "name": "stdout",
          "text": [
            "Enter a number80\n",
            "80.0 student failed\n"
          ]
        }
      ]
    },
    {
      "cell_type": "code",
      "source": [
        "userInput = float(input('Enter a number:'))\n",
        "if userInput>0:\n",
        "  print(f'{userInput}is positive')\n",
        "elif userInput<0:\n",
        "  print(f'{userInput}is negative')\n",
        "else:\n",
        "  print(f'{userInput}is 0')\n"
      ],
      "metadata": {
        "colab": {
          "base_uri": "https://localhost:8080/"
        },
        "id": "cgWYCOAlLB6v",
        "outputId": "a7c838d2-d369-4ee8-f8a8-f264aaaaf087"
      },
      "execution_count": null,
      "outputs": [
        {
          "output_type": "stream",
          "name": "stdout",
          "text": [
            "Enter a number:67\n",
            "67.0is positive\n"
          ]
        }
      ]
    },
    {
      "cell_type": "code",
      "source": [
        "#there is no one way of defining and expression\n"
      ],
      "metadata": {
        "id": "F2ODfNNoOR_R"
      },
      "execution_count": null,
      "outputs": []
    }
  ]
}