{
  "nbformat": 4,
  "nbformat_minor": 0,
  "metadata": {
    "colab": {
      "provenance": [],
      "authorship_tag": "ABX9TyMlztoHjoBGODfXOIiQOxxJ",
      "include_colab_link": true
    },
    "kernelspec": {
      "name": "python3",
      "display_name": "Python 3"
    },
    "language_info": {
      "name": "python"
    }
  },
  "cells": [
    {
      "cell_type": "markdown",
      "metadata": {
        "id": "view-in-github",
        "colab_type": "text"
      },
      "source": [
        "<a href=\"https://colab.research.google.com/github/anj521404/BTE320-Projects/blob/main/04_16_and_04_18_Class_Notes_%2B_Class_Mortgage_Activity.ipynb\" target=\"_parent\"><img src=\"https://colab.research.google.com/assets/colab-badge.svg\" alt=\"Open In Colab\"/></a>"
      ]
    },
    {
      "cell_type": "code",
      "execution_count": null,
      "metadata": {
        "id": "M9p9UcE1Dpjf"
      },
      "outputs": [],
      "source": [
        "#Data ==> attributes: what an object is\n",
        "#Behaviour ==> Methods: what an object can do\n",
        "#Class - int, float, string, tuple, list, etc\n",
        "\n",
        "#every method inside a class always has a first parameter that is a standard paramater and it always must be present\n",
        "#Always use the key word self as the first parameter. IT IS ALWAYS FIRST\n",
        "class Vehicle:\n",
        "  #This is the constructor method; used to initalize the attributes (a.k.a data) of class instances (a.k.a objects)\n",
        "  def __init__(self, n_wheels, n_seats, engine, pedals, dims):\n",
        "    #Setting up intializing attributes\n",
        "    self.n_wheels = n_wheels\n",
        "    self.n_seats = n_seats\n",
        "    self.engine = engine\n",
        "    self.pedals = pedals\n",
        "    self.dims = dims\n",
        "    self.model = None\n",
        "\n",
        "  def acc(self):\n",
        "    print(\"The vehicle is accelerating\")\n",
        "\n",
        "  def dec(self):\n",
        "    print(\"The vehicle is decelerating\")\n",
        "\n",
        "\n",
        "  #Every method has to be indented to the same level as the constructor as done above\n",
        "\n"
      ]
    },
    {
      "cell_type": "code",
      "source": [
        "v = Vehicle(4, 4, 'ICE', 3, [1,2,3])\n",
        "v.acc()"
      ],
      "metadata": {
        "colab": {
          "base_uri": "https://localhost:8080/"
        },
        "id": "R6edhldCPuR1",
        "outputId": "1b1630d7-7133-4ebf-9b3a-5ba8897b73a0"
      },
      "execution_count": null,
      "outputs": [
        {
          "output_type": "stream",
          "name": "stdout",
          "text": [
            "The vehicle is accelerating\n"
          ]
        }
      ]
    },
    {
      "cell_type": "code",
      "source": [
        "class Car:\n",
        "  def __init__(self, make, model, year):\n",
        "    self.make = make\n",
        "    self.model = model\n",
        "    self.year = year\n",
        "    self.utility = 'SUV'\n",
        "\n",
        "  def accelerate(self):\n",
        "    print(f'The {self.make} accelerates')"
      ],
      "metadata": {
        "id": "0Jr-UACGWwJ3"
      },
      "execution_count": null,
      "outputs": []
    },
    {
      "cell_type": "code",
      "source": [
        "c = Car('Ford', 150, '2020')\n",
        "d = Car('Chrysle', 300, '2020')"
      ],
      "metadata": {
        "id": "oQ1m-ln4ZQU1"
      },
      "execution_count": null,
      "outputs": []
    },
    {
      "cell_type": "code",
      "source": [
        "c.accelerate()"
      ],
      "metadata": {
        "colab": {
          "base_uri": "https://localhost:8080/"
        },
        "id": "wUl_0CkEahOt",
        "outputId": "a9949964-0c98-42cb-ca09-5174f51f1b96"
      },
      "execution_count": null,
      "outputs": [
        {
          "output_type": "stream",
          "name": "stdout",
          "text": [
            "The Ford accelerates\n"
          ]
        }
      ]
    },
    {
      "cell_type": "code",
      "source": [
        "d.model"
      ],
      "metadata": {
        "colab": {
          "base_uri": "https://localhost:8080/"
        },
        "id": "6L2MeehNb6iz",
        "outputId": "bb2f32de-2f4c-4856-e964-9467beca7959"
      },
      "execution_count": null,
      "outputs": [
        {
          "output_type": "execute_result",
          "data": {
            "text/plain": [
              "300"
            ]
          },
          "metadata": {},
          "execution_count": 23
        }
      ]
    },
    {
      "cell_type": "markdown",
      "source": [],
      "metadata": {
        "id": "wEVWjPweme1n"
      }
    },
    {
      "cell_type": "code",
      "source": [
        "class Mortgage:\n",
        "  def __init__(self, loan_amount, maturity, interest):\n",
        "    self.loan_amount = loan_amount\n",
        "    self.maturity = maturity\n",
        "    self.__interest = interest\n",
        "\n",
        "  def get_interest_rate(self):\n",
        "    return self.__interest\n",
        "\n",
        "  def set_interest(self, newInterest):\n",
        "    if newInterest >=0:\n",
        "      self.interest = newInterest\n",
        "    else:\n",
        "      print(\"Interest rate cannot be negative\")\n",
        "\n",
        "  def payment(self):\n",
        "    term = 12 * self.maturity\n",
        "    r = self.__interest/ 100\n",
        "    return self.loan_amount * (r * ( 1 + r)**term)/((1+r)**term-1)\n",
        "\n"
      ],
      "metadata": {
        "id": "6sshcMM4cZTj"
      },
      "execution_count": null,
      "outputs": []
    },
    {
      "cell_type": "code",
      "source": [
        "m = Mortgage(100000, 30, 6)"
      ],
      "metadata": {
        "id": "UPswZPJre2lV"
      },
      "execution_count": null,
      "outputs": []
    },
    {
      "cell_type": "code",
      "source": [
        "m.payment()"
      ],
      "metadata": {
        "colab": {
          "base_uri": "https://localhost:8080/"
        },
        "id": "RVsAT2uwfXvm",
        "outputId": "d58d0373-3669-4481-b9a8-1d2872eb45c5"
      },
      "execution_count": null,
      "outputs": [
        {
          "output_type": "execute_result",
          "data": {
            "text/plain": [
              "6000.000004656286"
            ]
          },
          "metadata": {},
          "execution_count": 67
        }
      ]
    },
    {
      "cell_type": "code",
      "source": [
        "m.get_interest_rate()"
      ],
      "metadata": {
        "colab": {
          "base_uri": "https://localhost:8080/"
        },
        "id": "A57NiJytitGp",
        "outputId": "cf438e9b-1eb4-406b-cfa0-927691aa1f85"
      },
      "execution_count": null,
      "outputs": [
        {
          "output_type": "execute_result",
          "data": {
            "text/plain": [
              "6"
            ]
          },
          "metadata": {},
          "execution_count": 68
        }
      ]
    },
    {
      "cell_type": "code",
      "source": [
        "m.set_interest(-5)\n",
        "m.get_interest_rate()"
      ],
      "metadata": {
        "colab": {
          "base_uri": "https://localhost:8080/"
        },
        "id": "YZgcC6fOlPIy",
        "outputId": "a50d61e4-a504-4430-9fea-fa865ebe6329"
      },
      "execution_count": null,
      "outputs": [
        {
          "output_type": "stream",
          "name": "stdout",
          "text": [
            "Interest rate cannot be negative\n"
          ]
        },
        {
          "output_type": "execute_result",
          "data": {
            "text/plain": [
              "6"
            ]
          },
          "metadata": {},
          "execution_count": 72
        }
      ]
    },
    {
      "cell_type": "code",
      "source": [],
      "metadata": {
        "id": "zKGHZaXalSX5"
      },
      "execution_count": null,
      "outputs": []
    }
  ]
}