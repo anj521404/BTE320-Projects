{
  "nbformat": 4,
  "nbformat_minor": 0,
  "metadata": {
    "colab": {
      "provenance": [],
      "authorship_tag": "ABX9TyPp6B80t5IcFSN8qhlfsP4M",
      "include_colab_link": true
    },
    "kernelspec": {
      "name": "python3",
      "display_name": "Python 3"
    },
    "language_info": {
      "name": "python"
    }
  },
  "cells": [
    {
      "cell_type": "markdown",
      "metadata": {
        "id": "view-in-github",
        "colab_type": "text"
      },
      "source": [
        "<a href=\"https://colab.research.google.com/github/anj521404/BTE320-Projects/blob/main/Deposit_with_interest_rate.ipynb\" target=\"_parent\"><img src=\"https://colab.research.google.com/assets/colab-badge.svg\" alt=\"Open In Colab\"/></a>"
      ]
    },
    {
      "cell_type": "code",
      "execution_count": null,
      "metadata": {
        "id": "0v8vg4W_jRlp"
      },
      "outputs": [],
      "source": [
        "Name = input('Hi, please entring your name: ')\n",
        "Customer_type = input('Enter customer type (n: new, e:existing): ')\n",
        "Deposit = float(input('Enter deposit amount:  $'))\n",
        "\n",
        "if Customer_type == 'n':\n",
        "  Interest == 0.03\n",
        "else:\n",
        "  if Deposit <= 1000:\n",
        "    Interest = float(0.03)\n",
        "  elif Deposit <= 10000:\n",
        "    Interest = float(0.0325)\n",
        "  elif Deposit > 10000:\n",
        "    Interest = float(0.035)\n",
        "\n",
        "Amount = (1 + Interest) * Deposit\n",
        "print(f'{Name}, you will have ${round(Amount, 2)} in your account!')"
      ]
    }
  ]
}