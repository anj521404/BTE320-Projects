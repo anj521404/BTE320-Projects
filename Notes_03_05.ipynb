{
  "nbformat": 4,
  "nbformat_minor": 0,
  "metadata": {
    "colab": {
      "provenance": [],
      "authorship_tag": "ABX9TyNRQvv0OaFp5Mya5Xxqw+jC",
      "include_colab_link": true
    },
    "kernelspec": {
      "name": "python3",
      "display_name": "Python 3"
    },
    "language_info": {
      "name": "python"
    }
  },
  "cells": [
    {
      "cell_type": "markdown",
      "metadata": {
        "id": "view-in-github",
        "colab_type": "text"
      },
      "source": [
        "<a href=\"https://colab.research.google.com/github/anj521404/BTE320-Projects/blob/main/Notes_03_05.ipynb\" target=\"_parent\"><img src=\"https://colab.research.google.com/assets/colab-badge.svg\" alt=\"Open In Colab\"/></a>"
      ]
    },
    {
      "cell_type": "code",
      "execution_count": null,
      "metadata": {
        "colab": {
          "base_uri": "https://localhost:8080/"
        },
        "id": "iPVOvAod_MVJ",
        "outputId": "d2c516c2-4987-478d-d998-eab3c37c2df7"
      },
      "outputs": [
        {
          "output_type": "execute_result",
          "data": {
            "text/plain": [
              "88"
            ]
          },
          "metadata": {},
          "execution_count": 15
        }
      ],
      "source": [
        "#dictionaries contain - key column, value column; see example below\n",
        "#dictionaries are composite objects, and mutable -- they have no order --\n",
        "#nothing about slicing or indexing - keys must be used to get individual values from dictionaries;\n",
        "#syntax similar to indexing but instead of index we have key -- which can be of any immutable type\n",
        "#dictionaries dont have indexes - they have keys\n",
        "#since there is no indexing, to access values in dictionaries you have to use keys\n",
        "#dictionaries are composite collection of items -- every item is given by a key - value format. Key has to be immutable, value can take any type - mutable or immutable\n",
        "\n",
        "\n",
        "\n",
        "grades = {\n",
        "    'Alice': 91,\n",
        "    'Bob': 88,\n",
        "    'Tracy': 93,\n",
        "    'Erik': 90,\n",
        "}\n",
        "\n",
        "grades['Bob']"
      ]
    },
    {
      "cell_type": "code",
      "source": [
        "#to add to dictionary, give the name of the dictionary, then put the key in []and assign it using = to a value\n",
        "#example below\n",
        "\n",
        "grades['Michael']=95\n",
        "grades\n",
        "\n",
        "#this added michael as a key and 95 as the value to the original dictionary\n",
        "#the assignment expression is two fold. One way is to create a new value pair as seen above but if key is already in the dictionary, the assignment will update the value already given in the dictionary\n",
        "#see example below\n",
        "grades['Alice']=95\n",
        "grades\n",
        "\n",
        "#this changes Alices grade from 91 to 95 -- so this functionality can be used in both ways\n",
        "#keys in a dictionary are unique - they can not be repeated --- if you ever see a dictionary with two of the same keys, thats not a dictionary - it is an error or something else\n",
        "#the other property is that keys have to be of immutable type - ex spring, integers, numbers, floats, booleans, and tuples are valid types of keys in dictionarie --- therefore, lists can't be keys\n",
        "\n"
      ],
      "metadata": {
        "colab": {
          "base_uri": "https://localhost:8080/"
        },
        "id": "ZGkXDdcf_-oh",
        "outputId": "98e1b4a5-b58a-404e-83f6-86c3970db72f"
      },
      "execution_count": null,
      "outputs": [
        {
          "output_type": "execute_result",
          "data": {
            "text/plain": [
              "{'Alice': 95, 'Bob': 88, 'Tracy': 93, 'Erik': 90, 'Michael': 95}"
            ]
          },
          "metadata": {},
          "execution_count": 16
        }
      ]
    },
    {
      "cell_type": "code",
      "source": [
        "#how to remove a key value pair in dictionary\n",
        "#use the key word del and then space and name the dictionary and give it the key that you want to delete and the key-value pair will be deleted\n",
        "del grades['Michael']\n",
        "grades\n",
        "\n",
        "#del grades['Michael']== del (grades['Michael]) --- they are both correct, you can use either"
      ],
      "metadata": {
        "colab": {
          "base_uri": "https://localhost:8080/"
        },
        "id": "jvvPM0-NA-4B",
        "outputId": "37f494e7-a279-4f4c-cfd2-feac7eef22b8"
      },
      "execution_count": null,
      "outputs": [
        {
          "output_type": "execute_result",
          "data": {
            "text/plain": [
              "{'Alice': 95, 'Bob': 88, 'Tracy': 93, 'Erik': 90}"
            ]
          },
          "metadata": {},
          "execution_count": 17
        }
      ]
    },
    {
      "cell_type": "code",
      "source": [
        "#dictionaries come with their own methods\n",
        "#the three that are mostly used are a method to create a list of all the keys in dictionaries,\n",
        "#methods in dictionaries follow the same .(...) syntax\n",
        "\n",
        "#this method returns a list of all the keys in a dictionary - method keys\n",
        "grades.keys()\n",
        "\n",
        "#this method returns a list of all the values in a dictionary - method values\n",
        "grades.values()\n",
        "\n",
        "#this method returns a list of all the items in a dictionary - method items\n",
        "grades.items()"
      ],
      "metadata": {
        "colab": {
          "base_uri": "https://localhost:8080/"
        },
        "id": "kB86KibgCXs0",
        "outputId": "943af793-0e58-4fb0-e85a-00d7410bf2d4"
      },
      "execution_count": null,
      "outputs": [
        {
          "output_type": "execute_result",
          "data": {
            "text/plain": [
              "dict_items([('Alice', 95), ('Bob', 88), ('Tracy', 93), ('Erik', 90)])"
            ]
          },
          "metadata": {},
          "execution_count": 7
        }
      ]
    },
    {
      "cell_type": "code",
      "source": [
        "grades.keys()"
      ],
      "metadata": {
        "colab": {
          "base_uri": "https://localhost:8080/"
        },
        "id": "92iPHYOpDB1b",
        "outputId": "74650fc0-6a9e-4eed-e415-7206051293a3"
      },
      "execution_count": null,
      "outputs": [
        {
          "output_type": "execute_result",
          "data": {
            "text/plain": [
              "dict_keys(['Alice', 'Bob', 'Tracy', 'Erik'])"
            ]
          },
          "metadata": {},
          "execution_count": 8
        }
      ]
    },
    {
      "cell_type": "code",
      "source": [
        "grades.values()"
      ],
      "metadata": {
        "colab": {
          "base_uri": "https://localhost:8080/"
        },
        "id": "pELVFKHEDDbj",
        "outputId": "85d97816-48c2-4d00-9778-b2fca5b14144"
      },
      "execution_count": null,
      "outputs": [
        {
          "output_type": "execute_result",
          "data": {
            "text/plain": [
              "dict_values([95, 88, 93, 90])"
            ]
          },
          "metadata": {},
          "execution_count": 9
        }
      ]
    },
    {
      "cell_type": "code",
      "source": [
        "#we can iterate over the created lists to get all the keys / individual keys, values, or items\n",
        "\n",
        "for key in grades.keys():\n",
        "  print(key)"
      ],
      "metadata": {
        "colab": {
          "base_uri": "https://localhost:8080/"
        },
        "id": "hHziLApMDGxm",
        "outputId": "843b362e-0cd6-49e5-9cff-291a4bb8722e"
      },
      "execution_count": null,
      "outputs": [
        {
          "output_type": "stream",
          "name": "stdout",
          "text": [
            "Alice\n",
            "Bob\n",
            "Tracy\n",
            "Erik\n"
          ]
        }
      ]
    },
    {
      "cell_type": "code",
      "source": [
        "#method items will not be on the midterms\n",
        "grades.items()\n",
        "#this returns a list of tuples -- the first item is a key and the second item is a value\n",
        "\n"
      ],
      "metadata": {
        "colab": {
          "base_uri": "https://localhost:8080/"
        },
        "id": "U1uGCyjNDy60",
        "outputId": "ffcf9ee3-8c53-4895-966c-cbecbaefac32"
      },
      "execution_count": null,
      "outputs": [
        {
          "output_type": "execute_result",
          "data": {
            "text/plain": [
              "dict_items([('Alice', 95), ('Bob', 88), ('Tracy', 93), ('Erik', 90)])"
            ]
          },
          "metadata": {},
          "execution_count": 16
        }
      ]
    },
    {
      "cell_type": "code",
      "source": [
        "for items in grades.items():\n",
        "  print(items)"
      ],
      "metadata": {
        "colab": {
          "base_uri": "https://localhost:8080/"
        },
        "id": "FIr1xX0BD-2W",
        "outputId": "8db48fe4-cc8f-4c1b-a5f4-18fa6fd32dba"
      },
      "execution_count": null,
      "outputs": [
        {
          "output_type": "stream",
          "name": "stdout",
          "text": [
            "('Alice', 95)\n",
            "('Bob', 88)\n",
            "('Tracy', 93)\n",
            "('Erik', 90)\n"
          ]
        }
      ]
    },
    {
      "cell_type": "code",
      "source": [
        "for keys, values in grades.items():\n",
        "  print(keys, values)"
      ],
      "metadata": {
        "colab": {
          "base_uri": "https://localhost:8080/"
        },
        "id": "B7ICuRxgEVyG",
        "outputId": "fb5e063e-e364-4d38-c4c5-efab4a5252cf"
      },
      "execution_count": null,
      "outputs": [
        {
          "output_type": "stream",
          "name": "stdout",
          "text": [
            "Alice 95\n",
            "Bob 88\n",
            "Tracy 93\n",
            "Erik 90\n"
          ]
        }
      ]
    }
  ]
}