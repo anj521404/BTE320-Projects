{
  "nbformat": 4,
  "nbformat_minor": 0,
  "metadata": {
    "colab": {
      "provenance": [],
      "authorship_tag": "ABX9TyMHUSkLWc4toBa6HBsdncTj",
      "include_colab_link": true
    },
    "kernelspec": {
      "name": "python3",
      "display_name": "Python 3"
    },
    "language_info": {
      "name": "python"
    }
  },
  "cells": [
    {
      "cell_type": "markdown",
      "metadata": {
        "id": "view-in-github",
        "colab_type": "text"
      },
      "source": [
        "<a href=\"https://colab.research.google.com/github/anj521404/BTE320-Projects/blob/main/Class_Notes_1_30.ipynb\" target=\"_parent\"><img src=\"https://colab.research.google.com/assets/colab-badge.svg\" alt=\"Open In Colab\"/></a>"
      ]
    },
    {
      "cell_type": "code",
      "execution_count": null,
      "metadata": {
        "id": "qX90So2UvmYN"
      },
      "outputs": [],
      "source": [
        "#Expression x%2 == 0 evaluates to true if the remained of x divided by 2 is 0\n",
        "#It evaluates to False otherwise\n",
        "#print('Done with conditional') follows the conditional block so it will be executed after the conditional is done\n",
        "\n"
      ]
    },
    {
      "cell_type": "code",
      "source": [
        "#Step 1 - input deposit amount\n",
        "\n",
        "n = float(input('Enter deposit amount'))\n",
        "print(type(n),n)\n",
        "\n",
        "#Step 2 - Decide interest rate\n",
        "\n",
        "userInput = float(input('Enter deposit amount'))\n",
        "if userInput>10000:\n",
        " ir=3.5\n",
        "elif userInput<=1000:\n",
        "  ir=3.00\n",
        "else:\n",
        "  ir=3.25\n",
        "\n",
        "#Step 3: Display total amount after IR is applied\n",
        "total = (1 + ir/100)*n\n",
        "print(f'Total after interest applied: {round(total,2)} $')"
      ],
      "metadata": {
        "id": "6qBkC0NxwAB-",
        "colab": {
          "base_uri": "https://localhost:8080/"
        },
        "outputId": "781cfa35-4a24-4f88-b9d8-80ad67c6e12f"
      },
      "execution_count": null,
      "outputs": [
        {
          "output_type": "stream",
          "name": "stdout",
          "text": [
            "Enter deposit amount5000\n",
            "<class 'float'> 5000.0\n",
            "Enter deposit amount5000\n",
            "Total after interest applied: 5162.5 $\n"
          ]
        }
      ]
    },
    {
      "cell_type": "code",
      "source": [
        "x = float(input('enter a number'))\n",
        "if x%2 == 0:\n",
        "  if x%3 == 0:\n",
        "    print('divisible by 2 and 3')\n",
        "  else:\n",
        "    print ('divisible by 2')\n",
        "elif x%3 == 0:\n",
        "  print ('divisible by just 3')\n",
        "else:\n",
        "  print('not divisible by 2 or 3')"
      ],
      "metadata": {
        "colab": {
          "base_uri": "https://localhost:8080/"
        },
        "id": "suWfWFfg4cQe",
        "outputId": "6ee99090-ab51-4fd0-ca52-a3e3732ab826"
      },
      "execution_count": null,
      "outputs": [
        {
          "output_type": "stream",
          "name": "stdout",
          "text": [
            "enter a number123456789\n",
            "divisible by just 3\n"
          ]
        }
      ]
    }
  ]
}