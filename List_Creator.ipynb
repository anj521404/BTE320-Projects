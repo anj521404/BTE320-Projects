{
  "nbformat": 4,
  "nbformat_minor": 0,
  "metadata": {
    "colab": {
      "provenance": [],
      "authorship_tag": "ABX9TyOnAiBb6fBG3wKoEfSxI8hw",
      "include_colab_link": true
    },
    "kernelspec": {
      "name": "python3",
      "display_name": "Python 3"
    },
    "language_info": {
      "name": "python"
    }
  },
  "cells": [
    {
      "cell_type": "markdown",
      "metadata": {
        "id": "view-in-github",
        "colab_type": "text"
      },
      "source": [
        "<a href=\"https://colab.research.google.com/github/anj521404/BTE320-Projects/blob/main/List_Creator.ipynb\" target=\"_parent\"><img src=\"https://colab.research.google.com/assets/colab-badge.svg\" alt=\"Open In Colab\"/></a>"
      ]
    },
    {
      "cell_type": "code",
      "execution_count": null,
      "metadata": {
        "colab": {
          "base_uri": "https://localhost:8080/"
        },
        "id": "7ltk5cE8iQix",
        "outputId": "e569a7c6-9600-4d13-ed39-db563cab5022"
      },
      "outputs": [
        {
          "output_type": "stream",
          "name": "stdout",
          "text": [
            "Enter an integer to append to the list:5\n",
            "Here is your current list: [5]\n",
            "Enter an integer to append to the list:7\n",
            "Here is your current list: [5, 7]\n"
          ]
        }
      ],
      "source": [
        "List = []\n",
        "while True:\n",
        "  userInput = int(input('Enter an integer to append to the list:'))\n",
        "  if userInput == 0:\n",
        "    break\n",
        "  List.append(userInput)\n",
        "  print(f'Here is your current list: {List}')\n",
        "\n",
        "print(f'Here is your list: {List}')"
      ]
    }
  ]
}