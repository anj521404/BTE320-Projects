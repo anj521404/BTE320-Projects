{
  "nbformat": 4,
  "nbformat_minor": 0,
  "metadata": {
    "colab": {
      "provenance": [],
      "authorship_tag": "ABX9TyPPTN3Sn/2D7OSGIfTNGRQ8",
      "include_colab_link": true
    },
    "kernelspec": {
      "name": "python3",
      "display_name": "Python 3"
    },
    "language_info": {
      "name": "python"
    }
  },
  "cells": [
    {
      "cell_type": "markdown",
      "metadata": {
        "id": "view-in-github",
        "colab_type": "text"
      },
      "source": [
        "<a href=\"https://colab.research.google.com/github/anj521404/BTE320-Projects/blob/main/Class_Notes_03_19.ipynb\" target=\"_parent\"><img src=\"https://colab.research.google.com/assets/colab-badge.svg\" alt=\"Open In Colab\"/></a>"
      ]
    },
    {
      "cell_type": "code",
      "execution_count": null,
      "metadata": {
        "colab": {
          "base_uri": "https://localhost:8080/"
        },
        "id": "NtUQcUTT3etW",
        "outputId": "74ad8e0a-caf2-4852-e173-4e6318972554"
      },
      "outputs": [
        {
          "output_type": "stream",
          "name": "stdout",
          "text": [
            "[1, 3, 5, 7, 9, 1, 3, 5, 7, 9]\n"
          ]
        }
      ],
      "source": [
        "def fill(l):\n",
        "\n",
        "  aList = []\n",
        "\n",
        "for i in range(10):\n",
        "  aList.append(i)\n",
        "  if i%2 == 0:\n",
        "    aList.pop()\n",
        "print(aList)"
      ]
    },
    {
      "cell_type": "code",
      "source": [
        "aList = []\n",
        "fill(aList)"
      ],
      "metadata": {
        "id": "4K5I_q5V33I_"
      },
      "execution_count": null,
      "outputs": []
    },
    {
      "cell_type": "code",
      "source": [
        "def fill(l):\n",
        "  for i in range(10):\n",
        "    l.append(i)\n",
        "    if i%2 == 0:\n",
        "      l.pop()\n",
        "print(l)"
      ],
      "metadata": {
        "colab": {
          "base_uri": "https://localhost:8080/",
          "height": 173
        },
        "id": "kyNO68_L5rqS",
        "outputId": "a4d1cbbf-0809-4a9d-85e9-0e144d3b60ae"
      },
      "execution_count": null,
      "outputs": [
        {
          "output_type": "error",
          "ename": "NameError",
          "evalue": "name 'l' is not defined",
          "traceback": [
            "\u001b[0;31m---------------------------------------------------------------------------\u001b[0m",
            "\u001b[0;31mNameError\u001b[0m                                 Traceback (most recent call last)",
            "\u001b[0;32m<ipython-input-25-a0e076cb95c5>\u001b[0m in \u001b[0;36m<cell line: 6>\u001b[0;34m()\u001b[0m\n\u001b[1;32m      4\u001b[0m     \u001b[0;32mif\u001b[0m \u001b[0mi\u001b[0m\u001b[0;34m%\u001b[0m\u001b[0;36m2\u001b[0m \u001b[0;34m==\u001b[0m \u001b[0;36m0\u001b[0m\u001b[0;34m:\u001b[0m\u001b[0;34m\u001b[0m\u001b[0;34m\u001b[0m\u001b[0m\n\u001b[1;32m      5\u001b[0m       \u001b[0ml\u001b[0m\u001b[0;34m.\u001b[0m\u001b[0mpop\u001b[0m\u001b[0;34m(\u001b[0m\u001b[0;34m)\u001b[0m\u001b[0;34m\u001b[0m\u001b[0;34m\u001b[0m\u001b[0m\n\u001b[0;32m----> 6\u001b[0;31m \u001b[0mprint\u001b[0m\u001b[0;34m(\u001b[0m\u001b[0ml\u001b[0m\u001b[0;34m)\u001b[0m\u001b[0;34m\u001b[0m\u001b[0;34m\u001b[0m\u001b[0m\n\u001b[0m",
            "\u001b[0;31mNameError\u001b[0m: name 'l' is not defined"
          ]
        }
      ]
    },
    {
      "cell_type": "code",
      "source": [],
      "metadata": {
        "id": "eKJo_Sa_-u-4"
      },
      "execution_count": null,
      "outputs": []
    },
    {
      "cell_type": "code",
      "source": [
        "aList = []\n",
        "\n",
        "aList.append(i)\n",
        "if i%2 == 0:\n",
        "  aList.pop()\n",
        "\n",
        "print(aList)"
      ],
      "metadata": {
        "colab": {
          "base_uri": "https://localhost:8080/"
        },
        "id": "93nRSwR-58UJ",
        "outputId": "41b533ee-a651-46c6-c2b2-4d3e26a46535"
      },
      "execution_count": null,
      "outputs": [
        {
          "output_type": "stream",
          "name": "stdout",
          "text": [
            "[9]\n"
          ]
        }
      ]
    },
    {
      "cell_type": "code",
      "source": [
        "def fill(l):\n",
        "  for i in range(10):\n",
        "    l.append(i)\n",
        "    if i%2 == 0:\n",
        "      l.pop()\n",
        "  print(l)\n",
        "\n",
        "aList = []\n",
        "fill(aList)"
      ],
      "metadata": {
        "colab": {
          "base_uri": "https://localhost:8080/"
        },
        "id": "o_uEIORn8bW8",
        "outputId": "48a8de0a-fe83-4851-e711-8f13a3b42ff6"
      },
      "execution_count": null,
      "outputs": [
        {
          "output_type": "stream",
          "name": "stdout",
          "text": [
            "[1, 3, 5, 7, 9]\n"
          ]
        }
      ]
    },
    {
      "cell_type": "code",
      "source": [
        "def greeting(n):\n",
        "  print(f'Hello {n}!')\n",
        "\n",
        "name = input('Enter a name: ')\n",
        "greeting(name)"
      ],
      "metadata": {
        "colab": {
          "base_uri": "https://localhost:8080/"
        },
        "id": "REBztSES-v6-",
        "outputId": "30583526-2bc9-4eac-e1ca-8bd306cf41d2"
      },
      "execution_count": null,
      "outputs": [
        {
          "output_type": "stream",
          "name": "stdout",
          "text": [
            "Enter a name: Anaya\n",
            "Hello Anaya!\n"
          ]
        }
      ]
    },
    {
      "cell_type": "code",
      "source": [
        "def greeting(n):\n",
        "  return f'Hello {n}!'\n",
        "\n",
        "name = input('Enter a name: ')\n",
        "greeting(name)"
      ],
      "metadata": {
        "colab": {
          "base_uri": "https://localhost:8080/",
          "height": 52
        },
        "id": "hJCAvhCvAwAy",
        "outputId": "5a0e88f6-bddf-4ff7-ac73-648e9e3c14cc"
      },
      "execution_count": null,
      "outputs": [
        {
          "name": "stdout",
          "output_type": "stream",
          "text": [
            "Enter a name: Anaya\n"
          ]
        },
        {
          "output_type": "execute_result",
          "data": {
            "text/plain": [
              "'Hello Anaya!'"
            ],
            "application/vnd.google.colaboratory.intrinsic+json": {
              "type": "string"
            }
          },
          "metadata": {},
          "execution_count": 27
        }
      ]
    },
    {
      "cell_type": "code",
      "source": [
        "def add_num(a, b):\n",
        "  bob  = a + b\n",
        "  return bob\n",
        "\n",
        "x=5\n",
        "y=6\n",
        "c = add_num(x,y)\n",
        "print(c)"
      ],
      "metadata": {
        "colab": {
          "base_uri": "https://localhost:8080/"
        },
        "id": "SwejiSeYCCnr",
        "outputId": "a0123487-0d39-4c92-daf0-85bc6da5a7a3"
      },
      "execution_count": null,
      "outputs": [
        {
          "output_type": "stream",
          "name": "stdout",
          "text": [
            "None\n"
          ]
        }
      ]
    },
    {
      "cell_type": "code",
      "source": [
        "#when a function returns multiple outputs they are returned in the form of a tuple"
      ],
      "metadata": {
        "id": "xP0BIveQFF1W"
      },
      "execution_count": null,
      "outputs": []
    }
  ]
}