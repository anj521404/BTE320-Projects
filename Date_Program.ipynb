{
  "nbformat": 4,
  "nbformat_minor": 0,
  "metadata": {
    "colab": {
      "provenance": [],
      "authorship_tag": "ABX9TyMQcdfb+iw0Ldkb9NbO2uht",
      "include_colab_link": true
    },
    "kernelspec": {
      "name": "python3",
      "display_name": "Python 3"
    },
    "language_info": {
      "name": "python"
    }
  },
  "cells": [
    {
      "cell_type": "markdown",
      "metadata": {
        "id": "view-in-github",
        "colab_type": "text"
      },
      "source": [
        "<a href=\"https://colab.research.google.com/github/anj521404/BTE320-Projects/blob/main/Date_Program.ipynb\" target=\"_parent\"><img src=\"https://colab.research.google.com/assets/colab-badge.svg\" alt=\"Open In Colab\"/></a>"
      ]
    },
    {
      "cell_type": "code",
      "execution_count": 2,
      "metadata": {
        "colab": {
          "base_uri": "https://localhost:8080/"
        },
        "id": "8-iZgN3U1HG6",
        "outputId": "e111d953-8a74-4044-d99d-a71a808128b4"
      },
      "outputs": [
        {
          "output_type": "stream",
          "name": "stdout",
          "text": [
            "Enter Date (MM/DD/YYYY): 04/14/2002\n",
            "Month = 04, Day = 14, Year = 2002\n"
          ]
        }
      ],
      "source": [
        "s = input(\"Enter Date (MM/DD/YYYY): \")\n",
        "m = s[:2]\n",
        "d = s[3:5]\n",
        "y = s[6:len(s)]\n",
        "print(f'Month = {m}, Day = {d}, Year = {y}')"
      ]
    }
  ]
}