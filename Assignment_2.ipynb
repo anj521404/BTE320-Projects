{
  "cells": [
    {
      "cell_type": "markdown",
      "metadata": {
        "id": "view-in-github",
        "colab_type": "text"
      },
      "source": [
        "<a href=\"https://colab.research.google.com/github/anj521404/BTE320-Projects/blob/main/Assignment_2.ipynb\" target=\"_parent\"><img src=\"https://colab.research.google.com/assets/colab-badge.svg\" alt=\"Open In Colab\"/></a>"
      ]
    },
    {
      "cell_type": "code",
      "execution_count": null,
      "metadata": {
        "colab": {
          "base_uri": "https://localhost:8080/"
        },
        "id": "t8yhMJBOsosE",
        "outputId": "a7e5c07f-a863-4416-ad35-d5d365a1e184"
      },
      "outputs": [
        {
          "name": "stdout",
          "output_type": "stream",
          "text": [
            "Enter the number of values: 5\n",
            "Enter value 1: 7\n",
            "Enter value 2: 9\n",
            "Enter value 3: 9\n",
            "Enter value 4: 0\n",
            "Enter value 5: 5\n",
            "The average weight (excluding first 3 values) is: 2.50\n"
          ]
        }
      ],
      "source": [
        "#assignment 1\n",
        "def getValues(n):\n",
        "  values = []\n",
        "  for i in range(n):\n",
        "    value = float(input(f\"Enter value {i+1}: \"))\n",
        "    values.append(value)\n",
        "  return values\n",
        "\n",
        "def calcAverage(alist):\n",
        "  if len(alist) < 3:\n",
        "    print(\"Error: List must contain at least 3 elements.\")\n",
        "\n",
        "  sublist = alist[3:]\n",
        "  average = sum(sublist) / len(sublist)\n",
        "  return average\n",
        "\n",
        "num_values = int(input(\"Enter the number of values: \"))\n",
        "values_list = getValues(num_values)\n",
        "average = calcAverage(values_list)\n",
        "\n",
        "if average is not None:\n",
        "  print(f\"The average weight (excluding first 3 values) is: {average:.2f}\")"
      ]
    },
    {
      "cell_type": "code",
      "execution_count": null,
      "metadata": {
        "colab": {
          "background_save": true,
          "base_uri": "https://localhost:8080/"
        },
        "id": "DBAYtuws1Bci",
        "outputId": "d587a625-bdd4-4e67-d5d2-a5f440113f9e"
      },
      "outputs": [
        {
          "name": "stdout",
          "output_type": "stream",
          "text": [
            "Error: Invalid country code. Please try again.\n",
            "MX FX = 19.68\n"
          ]
        }
      ],
      "source": [
        "#assignment 2\n",
        "\n",
        "allData = {\n",
        "    'US': {'pop': 325.7, 'gdp': 19.39, 'ccy': 'USD', 'fx': 1.0},\n",
        "    'CA': {'pop': 36.5, 'gdp': 1.65, 'ccy': 'CAD', 'fx': 1.35},\n",
        "    'MX': {'pop': 129.2, 'gdp': 1.15, 'ccy': 'MXN', 'fx': 19.68}\n",
        "}\n",
        "\n",
        "while True:\n",
        "  country_code = input(\"Enter a country code (US, CA, MX): \").upper()\n",
        "  if country_code not in allData:\n",
        "    print(\"Error: Invalid country code. Please try again.\")\n",
        "    continue\n",
        "\n",
        "  measure_name = input(\"Enter a measure name (pop, gdp, ccy, fx): \").lower()\n",
        "\n",
        "  if measure_name not in allData[country_code]:\n",
        "    print(\"Error: Invalid measure name. Please try again.\")\n",
        "    continue\n",
        "\n",
        "  value = allData[country_code][measure_name]\n",
        "  print(f\"{country_code.upper()} {measure_name.upper()} = {value}\")\n",
        "\n",
        "  user_choice = input(\"Do you want to look up another value (y/n)? \").lower()\n",
        "  if user_choice != 'y':\n",
        "    break\n",
        "\n"
      ]
    },
    {
      "cell_type": "code",
      "source": [
        "#assignment 3\n",
        "def getParkingHours():\n",
        "  hours = int(input(\"Enter the number of hours parked: \"))\n",
        "  return hours\n",
        "\n",
        "def calcParkingFee(hours):\n",
        "  fee = hours * 2.50\n",
        "  if fee < 6.00:\n",
        "    fee = 6.00\n",
        "  elif fee > 20.00:\n",
        "    fee = 20.00\n",
        "  return fee\n",
        "\n",
        "hours = getParkingHours()\n",
        "print(calcParkingFee(hours))"
      ],
      "metadata": {
        "colab": {
          "base_uri": "https://localhost:8080/"
        },
        "id": "gBAlWr2aGyCC",
        "outputId": "ec7a29f0-95f0-4fbe-d475-6ce5453b5e9d"
      },
      "execution_count": 7,
      "outputs": [
        {
          "output_type": "stream",
          "name": "stdout",
          "text": [
            "Enter the number of hours parked: 1\n",
            "6.0\n"
          ]
        }
      ]
    },
    {
      "cell_type": "code",
      "execution_count": null,
      "metadata": {
        "colab": {
          "base_uri": "https://localhost:8080/"
        },
        "id": "F5xFiPYfxS6O",
        "outputId": "b3d729fb-93a4-405c-aeeb-484f790dcc76"
      },
      "outputs": [
        {
          "name": "stdout",
          "output_type": "stream",
          "text": [
            "Enter the number of credits taken this semester: 12\n",
            "Your tuition for the semester is $20000\n"
          ]
        }
      ],
      "source": [
        "#assignment 4:\n",
        "def calcTuition(credits):\n",
        "  if credits < 12:\n",
        "    print('Your tuition for the semester is $', 1200 + 1700*credits)\n",
        "  else:\n",
        "    print('Your tuition for the semester is $20000')\n",
        "\n",
        "credits = int(input(\"Enter the number of credits taken this semester: \"))\n",
        "\n",
        "tuition = calcTuition(credits)\n"
      ]
    }
  ],
  "metadata": {
    "colab": {
      "provenance": [],
      "authorship_tag": "ABX9TyMzhgrG4WmtzLbmS30meCDw",
      "include_colab_link": true
    },
    "kernelspec": {
      "display_name": "Python 3",
      "name": "python3"
    },
    "language_info": {
      "name": "python"
    }
  },
  "nbformat": 4,
  "nbformat_minor": 0
}