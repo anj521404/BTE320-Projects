{
  "nbformat": 4,
  "nbformat_minor": 0,
  "metadata": {
    "colab": {
      "provenance": [],
      "authorship_tag": "ABX9TyN8TnZaSMm6ftFI/YgauVrh",
      "include_colab_link": true
    },
    "kernelspec": {
      "name": "python3",
      "display_name": "Python 3"
    },
    "language_info": {
      "name": "python"
    }
  },
  "cells": [
    {
      "cell_type": "markdown",
      "metadata": {
        "id": "view-in-github",
        "colab_type": "text"
      },
      "source": [
        "<a href=\"https://colab.research.google.com/github/anj521404/BTE320-Projects/blob/main/03_26_Notes.ipynb\" target=\"_parent\"><img src=\"https://colab.research.google.com/assets/colab-badge.svg\" alt=\"Open In Colab\"/></a>"
      ]
    },
    {
      "cell_type": "code",
      "execution_count": null,
      "metadata": {
        "colab": {
          "base_uri": "https://localhost:8080/"
        },
        "id": "JTa3mfEL5vrB",
        "outputId": "6fdeae4b-cf8c-4de3-c837-beaf07b78e1e"
      },
      "outputs": [
        {
          "output_type": "stream",
          "name": "stdout",
          "text": [
            "This is an example\n",
            "None\n"
          ]
        }
      ],
      "source": [
        "def example():\n",
        "    print('This is an example')\n",
        "    return\n",
        "\n",
        "name = example()\n",
        "print(name)"
      ]
    },
    {
      "cell_type": "code",
      "source": [
        "def f(x): #name x used as formal parameter\n",
        "  y = 1\n",
        "  x = x + y\n"
      ],
      "metadata": {
        "id": "dD5DnGfy7j5d"
      },
      "execution_count": null,
      "outputs": []
    },
    {
      "cell_type": "code",
      "source": [
        "#Scoping\n",
        "#Scope = block of code where an object in Python remains relevant\n",
        "# these blocks of code as levels of indentation\n",
        "#diff between global(entire block of code defined) and local scopes (whatever u define is limited to the scope)"
      ],
      "metadata": {
        "id": "maGz9DwA8g07"
      },
      "execution_count": null,
      "outputs": []
    },
    {
      "cell_type": "code",
      "source": [
        "def f(x): #name x used as formal parameter\n",
        "  y = 1\n",
        "  x = x + y\n",
        "  print('x =', x)\n",
        "  return x\n",
        "\n",
        "x = 3\n",
        "y = 2\n",
        "z = f(x) #vale of x used as actual parameter\n",
        "print('z =', z)\n",
        "print('x =', x)\n",
        "print('y =', y)\n",
        "\n",
        "#the two y's are different variables - in different scopes. The first one is in the local scope and the second one is in the global scope\n",
        "#this is one of the benefits of having scope --- having the same variable with different assignments\n",
        "#when x is returned it is returned to where the function was called - in this case to \"z=f(x)\"\n"
      ],
      "metadata": {
        "colab": {
          "base_uri": "https://localhost:8080/"
        },
        "id": "hAxj9enX_BZf",
        "outputId": "4255c9ce-40e9-4c23-9d78-6715b8b2a8cf"
      },
      "execution_count": null,
      "outputs": [
        {
          "output_type": "stream",
          "name": "stdout",
          "text": [
            "x = 4\n",
            "z = 4\n",
            "x = 3\n",
            "y = 2\n"
          ]
        }
      ]
    },
    {
      "cell_type": "code",
      "source": [
        "#try taking this object by hand, on pythontutor, etc to understand scope properly\n",
        "\n",
        "def f(x):\n",
        "  def g():\n",
        "    x = 'abc'\n",
        "    print('x =', x)\n",
        "  def h():\n",
        "    z = x\n",
        "    print('z =', z)\n",
        "  x = x +1\n",
        "  print('x =', x)\n",
        "  h()\n",
        "  g()\n",
        "  print('x =', x)\n",
        "\n",
        "  return g"
      ],
      "metadata": {
        "id": "S5_lSacEDtOi"
      },
      "execution_count": null,
      "outputs": []
    },
    {
      "cell_type": "code",
      "source": [
        "def f():\n",
        "  print()\n",
        "\n",
        "def g():\n",
        "  print()\n",
        "  x = 1\n",
        "\n",
        "x = 3\n",
        "f()\n",
        "x = 3\n",
        "g()\n",
        "\n",
        "#error given because we refer to a function before the assignment of x (in this case) is given"
      ],
      "metadata": {
        "colab": {
          "base_uri": "https://localhost:8080/",
          "height": 105
        },
        "id": "vjgom_AeEORA",
        "outputId": "608c19b1-4424-4db4-bb61-7d3f76a402ac"
      },
      "execution_count": null,
      "outputs": [
        {
          "output_type": "error",
          "ename": "IndentationError",
          "evalue": "unindent does not match any outer indentation level (<tokenize>, line 6)",
          "traceback": [
            "\u001b[0;36m  File \u001b[0;32m\"<tokenize>\"\u001b[0;36m, line \u001b[0;32m6\u001b[0m\n\u001b[0;31m    x = 1\u001b[0m\n\u001b[0m    ^\u001b[0m\n\u001b[0;31mIndentationError\u001b[0m\u001b[0;31m:\u001b[0m unindent does not match any outer indentation level\n"
          ]
        }
      ]
    }
  ]
}