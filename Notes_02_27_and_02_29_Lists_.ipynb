{
  "nbformat": 4,
  "nbformat_minor": 0,
  "metadata": {
    "colab": {
      "provenance": [],
      "authorship_tag": "ABX9TyOXoGw8odYEUEe5+LZT/H92",
      "include_colab_link": true
    },
    "kernelspec": {
      "name": "python3",
      "display_name": "Python 3"
    },
    "language_info": {
      "name": "python"
    }
  },
  "cells": [
    {
      "cell_type": "markdown",
      "metadata": {
        "id": "view-in-github",
        "colab_type": "text"
      },
      "source": [
        "<a href=\"https://colab.research.google.com/github/anj521404/BTE320-Projects/blob/main/Notes_02_27_and_02_29_Lists_.ipynb\" target=\"_parent\"><img src=\"https://colab.research.google.com/assets/colab-badge.svg\" alt=\"Open In Colab\"/></a>"
      ]
    },
    {
      "cell_type": "code",
      "execution_count": null,
      "metadata": {
        "id": "m6uCCgi37i-G"
      },
      "outputs": [],
      "source": [
        "# L = [1,2,3] ==> pure lists because they contain items of the same type, in this case, integers"
      ]
    },
    {
      "cell_type": "code",
      "source": [
        "L = [1,\"two\",3.0,print,[5,7,9]]\n",
        "#a list can take any object. Functions are also objects so they can be stored on a list\n",
        "len(L)"
      ],
      "metadata": {
        "colab": {
          "base_uri": "https://localhost:8080/"
        },
        "id": "Pq9-4l5L7mBt",
        "outputId": "90905910-3fc3-4107-de4a-879fdbdbe20f"
      },
      "execution_count": null,
      "outputs": [
        {
          "output_type": "execute_result",
          "data": {
            "text/plain": [
              "5"
            ]
          },
          "metadata": {},
          "execution_count": 8
        }
      ]
    },
    {
      "cell_type": "code",
      "source": [
        "L[2]\n",
        "#indexing on lists works exactly the same way as it does on strings\n",
        "L[:3]\n",
        "#this will create a sublist with the first 3 items in the list that correspond to the index 0,1,2\n",
        "L[3:]\n",
        "#this will create a sublist using the list starting at index 3, and until the end of the list -- in this case the sublist will entail \"function\" print and the list [5,7,9]"
      ],
      "metadata": {
        "colab": {
          "base_uri": "https://localhost:8080/"
        },
        "id": "XN_ouj8q8kox",
        "outputId": "5fd4e868-0cf8-46dc-c9c6-c85f677cdbb1"
      },
      "execution_count": null,
      "outputs": [
        {
          "output_type": "execute_result",
          "data": {
            "text/plain": [
              "[<function print>, [5, 7, 9]]"
            ]
          },
          "metadata": {},
          "execution_count": 9
        }
      ]
    },
    {
      "cell_type": "code",
      "source": [
        "L + ['three',9.99,0]"
      ],
      "metadata": {
        "colab": {
          "base_uri": "https://localhost:8080/"
        },
        "id": "yh1ZQF53-Pt5",
        "outputId": "563ff9df-2bd8-4d9a-98f7-b60a75cc02c4"
      },
      "execution_count": null,
      "outputs": [
        {
          "output_type": "execute_result",
          "data": {
            "text/plain": [
              "[1, 'two', 3.0, <function print>, [5, 7, 9], 'three', 9.99, 0]"
            ]
          },
          "metadata": {},
          "execution_count": 10
        }
      ]
    },
    {
      "cell_type": "code",
      "source": [
        "s ='two'\n",
        "s[2]='b'\n",
        "#this will give an error message because you can not change characters from a string in python -- string can not be modified / mutalble\n",
        "#however, lists are mutable and can be changed - which is another reason why they are very popular\n"
      ],
      "metadata": {
        "colab": {
          "base_uri": "https://localhost:8080/",
          "height": 207
        },
        "id": "-tVWJPah_XXF",
        "outputId": "1a5fa214-b82b-48dc-f6d4-92c16096c3ee"
      },
      "execution_count": null,
      "outputs": [
        {
          "output_type": "error",
          "ename": "TypeError",
          "evalue": "'str' object does not support item assignment",
          "traceback": [
            "\u001b[0;31m---------------------------------------------------------------------------\u001b[0m",
            "\u001b[0;31mTypeError\u001b[0m                                 Traceback (most recent call last)",
            "\u001b[0;32m<ipython-input-1-6f5c950938e0>\u001b[0m in \u001b[0;36m<cell line: 2>\u001b[0;34m()\u001b[0m\n\u001b[1;32m      1\u001b[0m \u001b[0ms\u001b[0m \u001b[0;34m=\u001b[0m\u001b[0;34m'two'\u001b[0m\u001b[0;34m\u001b[0m\u001b[0;34m\u001b[0m\u001b[0m\n\u001b[0;32m----> 2\u001b[0;31m \u001b[0ms\u001b[0m\u001b[0;34m[\u001b[0m\u001b[0;36m2\u001b[0m\u001b[0;34m]\u001b[0m\u001b[0;34m=\u001b[0m\u001b[0;34m'b'\u001b[0m\u001b[0;34m\u001b[0m\u001b[0;34m\u001b[0m\u001b[0m\n\u001b[0m\u001b[1;32m      3\u001b[0m \u001b[0;31m#this will give an error message because you can not change characters from a string in python -- string can not be modified / mutalble\u001b[0m\u001b[0;34m\u001b[0m\u001b[0;34m\u001b[0m\u001b[0m\n\u001b[1;32m      4\u001b[0m \u001b[0;31m#however, lists are mutable and can be changed - which is another reason why they are very popular\u001b[0m\u001b[0;34m\u001b[0m\u001b[0;34m\u001b[0m\u001b[0m\n",
            "\u001b[0;31mTypeError\u001b[0m: 'str' object does not support item assignment"
          ]
        }
      ]
    },
    {
      "cell_type": "code",
      "source": [
        "L[3]=\"b\"\n",
        "L"
      ],
      "metadata": {
        "colab": {
          "base_uri": "https://localhost:8080/"
        },
        "id": "Wwm12-Gn__jh",
        "outputId": "fc869805-2d7f-445c-8a6f-12c796cb3766"
      },
      "execution_count": null,
      "outputs": [
        {
          "output_type": "execute_result",
          "data": {
            "text/plain": [
              "[1, 'two', 3.0, 'b', [5, 7, 9]]"
            ]
          },
          "metadata": {},
          "execution_count": 12
        }
      ]
    },
    {
      "cell_type": "code",
      "source": [
        "for index in range(len(L)):\n",
        "  print(L[index])"
      ],
      "metadata": {
        "colab": {
          "base_uri": "https://localhost:8080/"
        },
        "id": "IK8z8zxvBI9K",
        "outputId": "0f7049d0-3358-4fa2-b26e-020ec96e8d10"
      },
      "execution_count": null,
      "outputs": [
        {
          "output_type": "stream",
          "name": "stdout",
          "text": [
            "1\n",
            "two\n",
            "3.0\n",
            "b\n",
            "[5, 7, 9]\n"
          ]
        }
      ]
    },
    {
      "cell_type": "code",
      "source": [
        "#everything that works for strings, works for lists - except the fact that lists are mutuble and strings are not\n",
        "#lists are also know as 1-dimensional arrays\n",
        "  #that is because they have mutliple columns and a single row"
      ],
      "metadata": {
        "id": "KS70jyymCNe2"
      },
      "execution_count": null,
      "outputs": []
    },
    {
      "cell_type": "code",
      "source": [
        "for element in L:\n",
        "  print(element)"
      ],
      "metadata": {
        "colab": {
          "base_uri": "https://localhost:8080/"
        },
        "id": "lMnzDbJNB4O_",
        "outputId": "3727b7e0-da3b-42f9-ba4f-c72bee06ad84"
      },
      "execution_count": null,
      "outputs": [
        {
          "output_type": "stream",
          "name": "stdout",
          "text": [
            "1\n",
            "two\n",
            "3.0\n",
            "b\n",
            "[5, 7, 9]\n"
          ]
        }
      ]
    },
    {
      "cell_type": "code",
      "source": [
        "L = [\n",
        "  [1,2,4],\n",
        "  [3,5,6],\n",
        "  [7,8,9]\n",
        "]\n",
        "print(L)"
      ],
      "metadata": {
        "colab": {
          "base_uri": "https://localhost:8080/"
        },
        "id": "Sl9spYbhCb96",
        "outputId": "fdb8c597-4db9-46ba-97df-3d184400edfe"
      },
      "execution_count": null,
      "outputs": [
        {
          "output_type": "stream",
          "name": "stdout",
          "text": [
            "[[1, 2, 4], [3, 5, 6], [7, 8, 9]]\n"
          ]
        }
      ]
    },
    {
      "cell_type": "code",
      "source": [
        "#how to create multidimensional arrays\n",
        "L_outer=[[1,2,3],[4,5,6]]\n",
        "l = L_outer[1]\n",
        "print(l)\n",
        "l[0]=7\n",
        "print(l)\n",
        "print(L_outer)\n",
        "L_outer[1]=l\n",
        "print(L_outer)\n",
        "#learn how to do this"
      ],
      "metadata": {
        "colab": {
          "base_uri": "https://localhost:8080/"
        },
        "id": "8mWZCmTfCxuN",
        "outputId": "d0d27cf8-5188-48d5-d470-a6bca73b4d82"
      },
      "execution_count": null,
      "outputs": [
        {
          "output_type": "stream",
          "name": "stdout",
          "text": [
            "[4, 5, 6]\n",
            "[7, 5, 6]\n",
            "[[1, 2, 3], [7, 5, 6]]\n",
            "[[1, 2, 3], [7, 5, 6]]\n"
          ]
        }
      ]
    },
    {
      "cell_type": "code",
      "source": [
        "#go over the .format and f' method of printing string list, etc.\n",
        "#the syntax used is object of variable \"obj.method(....)\"(...)= any input that a variable may take."
      ],
      "metadata": {
        "id": "s2JgEL_FGZDr"
      },
      "execution_count": null,
      "outputs": []
    },
    {
      "cell_type": "code",
      "source": [
        "L"
      ],
      "metadata": {
        "colab": {
          "base_uri": "https://localhost:8080/"
        },
        "id": "zAmMha04HLdW",
        "outputId": "bcbff584-62fc-4b98-998c-3ea2522535fc"
      },
      "execution_count": null,
      "outputs": [
        {
          "output_type": "execute_result",
          "data": {
            "text/plain": [
              "[[1, 2, 4], [3, 5, 6], [7, 8, 9]]"
            ]
          },
          "metadata": {},
          "execution_count": 19
        }
      ]
    },
    {
      "cell_type": "code",
      "source": [
        "s = \"three\"\n",
        "L.append(s)\n",
        "L"
      ],
      "metadata": {
        "colab": {
          "base_uri": "https://localhost:8080/"
        },
        "id": "Nubs9RzVHQIj",
        "outputId": "5c8913bc-fb7c-4a9d-b4eb-190107ad7184"
      },
      "execution_count": null,
      "outputs": [
        {
          "output_type": "execute_result",
          "data": {
            "text/plain": [
              "[[1, 2, 4], [3, 5, 6], [7, 8, 9], 'three']"
            ]
          },
          "metadata": {},
          "execution_count": 20
        }
      ]
    },
    {
      "cell_type": "code",
      "source": [
        "s = [\"three, 9.99, 0\"]\n",
        "L.append(s)\n",
        "L"
      ],
      "metadata": {
        "colab": {
          "base_uri": "https://localhost:8080/"
        },
        "id": "HVBN3KalHv4R",
        "outputId": "ab5c3b66-43dc-4c57-d72c-3aa630bdba19"
      },
      "execution_count": null,
      "outputs": [
        {
          "output_type": "execute_result",
          "data": {
            "text/plain": [
              "[[1, 2, 4], [3, 5, 6], [7, 8, 9], 'three', ['three, 9.99, 0']]"
            ]
          },
          "metadata": {},
          "execution_count": 21
        }
      ]
    },
    {
      "cell_type": "code",
      "source": [
        "L=[1, 'two', 3.0, print, [5,7,9]]\n",
        "print(len(L))\n",
        "s=[\"three\", 9.99,0]\n",
        "L.extend(s)\n",
        "print(L)\n",
        "print(len(L))"
      ],
      "metadata": {
        "colab": {
          "base_uri": "https://localhost:8080/"
        },
        "id": "gwK9rIYbI41V",
        "outputId": "6a9ab064-b7f1-4283-858a-ed32ca01f567"
      },
      "execution_count": null,
      "outputs": [
        {
          "output_type": "stream",
          "name": "stdout",
          "text": [
            "5\n",
            "[1, 'two', 3.0, <built-in function print>, [5, 7, 9], 'three', 9.99, 0]\n",
            "8\n"
          ]
        }
      ]
    },
    {
      "cell_type": "code",
      "source": [
        "L[4][1]"
      ],
      "metadata": {
        "colab": {
          "base_uri": "https://localhost:8080/"
        },
        "id": "ZvPQRKrzJj3G",
        "outputId": "46e1ffb5-e28f-4c12-ff22-a1aa5c01f894"
      },
      "execution_count": null,
      "outputs": [
        {
          "output_type": "execute_result",
          "data": {
            "text/plain": [
              "7"
            ]
          },
          "metadata": {},
          "execution_count": 23
        }
      ]
    },
    {
      "cell_type": "code",
      "source": [
        "print(L)\n",
        "L.pop()"
      ],
      "metadata": {
        "colab": {
          "base_uri": "https://localhost:8080/"
        },
        "id": "reApUaQ0Koin",
        "outputId": "72f6a62a-f6f6-400e-cb87-9caa372a6973"
      },
      "execution_count": null,
      "outputs": [
        {
          "output_type": "stream",
          "name": "stdout",
          "text": [
            "[1, 'two', 3.0, <built-in function print>, [5, 7, 9], 'three', 9.99, 0]\n"
          ]
        },
        {
          "output_type": "execute_result",
          "data": {
            "text/plain": [
              "0"
            ]
          },
          "metadata": {},
          "execution_count": 24
        }
      ]
    },
    {
      "cell_type": "code",
      "source": [
        "# we started over for 02/29\n",
        "L = [1, 'two', 3.0, print, [5,7,9]]\n",
        "len(L)"
      ],
      "metadata": {
        "colab": {
          "base_uri": "https://localhost:8080/"
        },
        "id": "_LJDMq7Asv5I",
        "outputId": "44f3db11-cdff-4557-9f0a-d22902bdb034"
      },
      "execution_count": null,
      "outputs": [
        {
          "output_type": "execute_result",
          "data": {
            "text/plain": [
              "5"
            ]
          },
          "metadata": {},
          "execution_count": 74
        }
      ]
    },
    {
      "cell_type": "code",
      "source": [
        "L.append(['three', 4])\n",
        "L\n"
      ],
      "metadata": {
        "colab": {
          "base_uri": "https://localhost:8080/"
        },
        "id": "mgroOm-DtbMW",
        "outputId": "2a105e30-91c8-4e6c-f497-ca2161d4e358"
      },
      "execution_count": null,
      "outputs": [
        {
          "output_type": "execute_result",
          "data": {
            "text/plain": [
              "[1, 'two', 3.0, <function print>, [5, 7, 9], ['three', 4]]"
            ]
          },
          "metadata": {},
          "execution_count": 75
        }
      ]
    },
    {
      "cell_type": "code",
      "source": [
        "L.extend([3,4])\n",
        "L"
      ],
      "metadata": {
        "colab": {
          "base_uri": "https://localhost:8080/"
        },
        "id": "vkFyH5Onuw8j",
        "outputId": "cccce5a3-18ae-402c-aebe-ce3d90f86dda"
      },
      "execution_count": null,
      "outputs": [
        {
          "output_type": "execute_result",
          "data": {
            "text/plain": [
              "[1, 'two', 3.0, <function print>, [5, 7, 9], ['three', 4], 3, 4]"
            ]
          },
          "metadata": {},
          "execution_count": 76
        }
      ]
    },
    {
      "cell_type": "code",
      "source": [
        "L.pop()\n",
        "L"
      ],
      "metadata": {
        "colab": {
          "base_uri": "https://localhost:8080/"
        },
        "id": "R9bdHrt6OliJ",
        "outputId": "37837cee-9b94-4583-e7f0-b530ac043c97"
      },
      "execution_count": null,
      "outputs": [
        {
          "output_type": "execute_result",
          "data": {
            "text/plain": [
              "[1, 'two', 3.0, <function print>, [5, 7, 9], ['three', 4], 3]"
            ]
          },
          "metadata": {},
          "execution_count": 77
        }
      ]
    },
    {
      "cell_type": "code",
      "source": [
        "numbers = [5,7,0,3,1,6,]\n",
        "numbers.sort(reverse=True)\n",
        "numbers"
      ],
      "metadata": {
        "colab": {
          "base_uri": "https://localhost:8080/"
        },
        "id": "I23YDG7iUOPz",
        "outputId": "3a31babc-22e2-4247-95c9-1a7fe3ca98d6"
      },
      "execution_count": null,
      "outputs": [
        {
          "output_type": "execute_result",
          "data": {
            "text/plain": [
              "[7, 6, 5, 3, 1, 0]"
            ]
          },
          "metadata": {},
          "execution_count": 79
        }
      ]
    },
    {
      "cell_type": "code",
      "source": [
        "#Class Activity -- interations and lists\n",
        "#ask user to enter an input and\n",
        "N = []\n",
        "userinput = int(input('Enter an integer value: '))\n",
        "while userinput != 0:\n",
        "  N.append(userinput)\n",
        "  userinput = int(input('Enter a value: '))\n",
        "print(N)\n",
        "\n",
        "\n",
        "\n"
      ],
      "metadata": {
        "colab": {
          "base_uri": "https://localhost:8080/"
        },
        "id": "_XEB-uJ3UvIt",
        "outputId": "4fb086bc-7096-4d73-f869-79cd1cbf8510"
      },
      "execution_count": null,
      "outputs": [
        {
          "output_type": "stream",
          "name": "stdout",
          "text": [
            "Enter a value: 9\n",
            "Enter a value: 9\n",
            "Enter a value: 8\n",
            "Enter a value: 7\n",
            "Enter a value: 0\n",
            "[9, 9, 8, 7]\n"
          ]
        }
      ]
    },
    {
      "cell_type": "code",
      "source": [
        "a = \"123789\"\n",
        "while x in a:\n",
        "    print(x, end=\" \")\n",
        "\n"
      ],
      "metadata": {
        "colab": {
          "base_uri": "https://localhost:8080/",
          "height": 190
        },
        "id": "2TXtpi6kNPPs",
        "outputId": "f8c39a12-7a02-43bd-cab4-a193de6180b2"
      },
      "execution_count": null,
      "outputs": [
        {
          "output_type": "error",
          "ename": "NameError",
          "evalue": "name 'x' is not defined",
          "traceback": [
            "\u001b[0;31m---------------------------------------------------------------------------\u001b[0m",
            "\u001b[0;31mNameError\u001b[0m                                 Traceback (most recent call last)",
            "\u001b[0;32m<ipython-input-4-5dcc272f66c5>\u001b[0m in \u001b[0;36m<cell line: 2>\u001b[0;34m()\u001b[0m\n\u001b[1;32m      1\u001b[0m \u001b[0ma\u001b[0m \u001b[0;34m=\u001b[0m \u001b[0;34m\"123789\"\u001b[0m\u001b[0;34m\u001b[0m\u001b[0;34m\u001b[0m\u001b[0m\n\u001b[0;32m----> 2\u001b[0;31m \u001b[0;32mwhile\u001b[0m \u001b[0mx\u001b[0m \u001b[0;32min\u001b[0m \u001b[0ma\u001b[0m\u001b[0;34m:\u001b[0m\u001b[0;34m\u001b[0m\u001b[0;34m\u001b[0m\u001b[0m\n\u001b[0m\u001b[1;32m      3\u001b[0m     \u001b[0mprint\u001b[0m\u001b[0;34m(\u001b[0m\u001b[0mx\u001b[0m\u001b[0;34m,\u001b[0m \u001b[0mend\u001b[0m\u001b[0;34m=\u001b[0m\u001b[0;34m\" \"\u001b[0m\u001b[0;34m)\u001b[0m\u001b[0;34m\u001b[0m\u001b[0;34m\u001b[0m\u001b[0m\n\u001b[1;32m      4\u001b[0m \u001b[0;34m\u001b[0m\u001b[0m\n",
            "\u001b[0;31mNameError\u001b[0m: name 'x' is not defined"
          ]
        }
      ]
    },
    {
      "cell_type": "code",
      "source": [
        "number = 5\n",
        "while number <= 5:\n",
        "    if number < 5:\n",
        "        number = number + 1\n",
        "print(number)"
      ],
      "metadata": {
        "id": "MQPn0o84NP7I"
      },
      "execution_count": null,
      "outputs": []
    },
    {
      "cell_type": "code",
      "source": [
        "#other way to do this\n",
        "\n",
        "A = []\n",
        "userinput = int(input('Enter a value:'))\n",
        "while True:\n",
        "  if userinput !=0:\n",
        "    A.append(userinput)\n",
        "  userinput = int(input('Enter a value:'))\n",
        "\n",
        "  if userinput ==0:\n",
        "    break\n",
        "\n",
        "  print(A)"
      ],
      "metadata": {
        "colab": {
          "base_uri": "https://localhost:8080/"
        },
        "id": "6Nb1HXh9aCCZ",
        "outputId": "a85f96fa-1484-4250-f6a6-5418ab193e2e"
      },
      "execution_count": null,
      "outputs": [
        {
          "name": "stdout",
          "output_type": "stream",
          "text": [
            "Enter a value:7\n",
            "Enter a value:8\n",
            "[7]\n",
            "Enter a value:5\n",
            "[7, 8]\n",
            "Enter a value:4\n",
            "[7, 8, 5]\n",
            "Enter a value:0\n"
          ]
        }
      ]
    },
    {
      "cell_type": "code",
      "source": [
        "l1 = [1,2,3,4]\n",
        "l2 = [1,2,5,6]\n",
        "\n",
        "for item in l1:\n",
        "  if item in l2:\n",
        "    l1.remove(item)\n",
        "l1\n"
      ],
      "metadata": {
        "colab": {
          "base_uri": "https://localhost:8080/"
        },
        "id": "LuqZ3AI4batR",
        "outputId": "cbdd7f49-26fc-4b4b-88db-374d2c2d4e4b"
      },
      "execution_count": null,
      "outputs": [
        {
          "output_type": "execute_result",
          "data": {
            "text/plain": [
              "[2, 3, 4]"
            ]
          },
          "metadata": {},
          "execution_count": 93
        }
      ]
    },
    {
      "cell_type": "code",
      "source": [
        "x = 5\n",
        "ans = 0\n",
        "num_iterations = 0\n",
        "while num_iterations < x:\n",
        "  ans = ans + x\n",
        "  num_iterations = num_iterations + 1\n",
        "print(f'{x}*{x} = {ans}')"
      ],
      "metadata": {
        "colab": {
          "base_uri": "https://localhost:8080/"
        },
        "id": "sGf-lfXQV03C",
        "outputId": "051917f0-05de-433f-8144-63369f4068db"
      },
      "execution_count": null,
      "outputs": [
        {
          "output_type": "stream",
          "name": "stdout",
          "text": [
            "5*5 = 25\n"
          ]
        }
      ]
    },
    {
      "cell_type": "code",
      "source": [
        "s = 'This is a string'\n",
        "print(s[15], s[len(s) - 1], s[-1])"
      ],
      "metadata": {
        "colab": {
          "base_uri": "https://localhost:8080/"
        },
        "id": "HfTNUaW0XlK7",
        "outputId": "acd530f0-2666-42f7-d490-2cc6be808665"
      },
      "execution_count": null,
      "outputs": [
        {
          "output_type": "stream",
          "name": "stdout",
          "text": [
            "g g g\n"
          ]
        }
      ]
    },
    {
      "cell_type": "code",
      "source": [],
      "metadata": {
        "id": "nZ-raFdGXq7H"
      },
      "execution_count": null,
      "outputs": []
    },
    {
      "cell_type": "code",
      "source": [
        "num = 30000000\n",
        "fraction = 1/2\n",
        "print(num*fraction, 'is', fraction*100, '%', 'of', num)\n",
        "print(num*fraction, 'is', str(fraction*100) + '%', 'of', num)\n",
        "print(int(num*fraction), 'is', str(fraction*100) + '%', 'of', num)\n",
        "# print with f-strings\n",
        "print(f'{int(num*fraction)} is {fraction*100}% of {num}')\n",
        "# print with f-strings and control modifiers. Comma modifier instructs Python to use commas on thousands\n",
        "print(f'{num*fraction:,.0f} is {fraction*100}% of {num:,}')"
      ],
      "metadata": {
        "id": "KoXJ1jvdYGBu",
        "outputId": "81daf13a-a720-49a3-ea2b-f9dd88cc5a52",
        "colab": {
          "base_uri": "https://localhost:8080/"
        }
      },
      "execution_count": null,
      "outputs": [
        {
          "output_type": "stream",
          "name": "stdout",
          "text": [
            "15000000.0 is 50.0 % of 30000000\n",
            "15000000.0 is 50.0% of 30000000\n",
            "15000000 is 50.0% of 30000000\n",
            "15000000 is 50.0% of 30000000\n",
            "15,000,000 is 50.0% of 30,000,000\n"
          ]
        }
      ]
    }
  ]
}